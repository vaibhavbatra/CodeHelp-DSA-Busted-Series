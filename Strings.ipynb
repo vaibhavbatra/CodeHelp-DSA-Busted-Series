{
  "nbformat": 4,
  "nbformat_minor": 0,
  "metadata": {
    "colab": {
      "provenance": [],
      "authorship_tag": "ABX9TyO+kXi2O6dQDFya3bsEKtXt",
      "include_colab_link": true
    },
    "kernelspec": {
      "name": "python3",
      "display_name": "Python 3"
    },
    "language_info": {
      "name": "python"
    }
  },
  "cells": [
    {
      "cell_type": "markdown",
      "metadata": {
        "id": "view-in-github",
        "colab_type": "text"
      },
      "source": [
        "<a href=\"https://colab.research.google.com/github/vaibhavbatra/CodeHelp-DSA-Busted-Series/blob/main/Strings.ipynb\" target=\"_parent\"><img src=\"https://colab.research.google.com/assets/colab-badge.svg\" alt=\"Open In Colab\"/></a>"
      ]
    },
    {
      "cell_type": "markdown",
      "source": [
        "String Concatenation"
      ],
      "metadata": {
        "id": "5X95WvKxyM6o"
      }
    },
    {
      "cell_type": "code",
      "source": [
        "print('Vaibhav' + 'Batra')"
      ],
      "metadata": {
        "colab": {
          "base_uri": "https://localhost:8080/"
        },
        "id": "0O46Li5fychN",
        "outputId": "3fa4dfbc-25b7-44ff-96e4-c89666299697"
      },
      "execution_count": 4,
      "outputs": [
        {
          "output_type": "stream",
          "name": "stdout",
          "text": [
            "VaibhavBatra\n"
          ]
        }
      ]
    },
    {
      "cell_type": "code",
      "source": [
        "print('Vaibhav' + ' ' + 'Batra')"
      ],
      "metadata": {
        "colab": {
          "base_uri": "https://localhost:8080/"
        },
        "id": "ZmYdiaWByuLi",
        "outputId": "e4ec1050-888f-469d-d8c1-8ac3311dee95"
      },
      "execution_count": 5,
      "outputs": [
        {
          "output_type": "stream",
          "name": "stdout",
          "text": [
            "Vaibhav Batra\n"
          ]
        }
      ]
    },
    {
      "cell_type": "markdown",
      "source": [
        "String Replication"
      ],
      "metadata": {
        "id": "j-ktrtexyB8D"
      }
    },
    {
      "cell_type": "code",
      "source": [
        "print('Vaibhav ' * 4)"
      ],
      "metadata": {
        "colab": {
          "base_uri": "https://localhost:8080/"
        },
        "id": "FkSIGcmsyGFb",
        "outputId": "fd2cae96-de18-42c9-c8a9-ebd392155f1e"
      },
      "execution_count": 7,
      "outputs": [
        {
          "output_type": "stream",
          "name": "stdout",
          "text": [
            "Vaibhav Vaibhav Vaibhav Vaibhav \n"
          ]
        }
      ]
    },
    {
      "cell_type": "markdown",
      "source": [
        "String Length"
      ],
      "metadata": {
        "id": "RX0KYs7IzSbK"
      }
    },
    {
      "cell_type": "code",
      "source": [
        "print('vaibhav')\n",
        "print(len('vaibhav'))"
      ],
      "metadata": {
        "colab": {
          "base_uri": "https://localhost:8080/"
        },
        "id": "FbJr6VY-zHiP",
        "outputId": "a68c436e-3610-4f88-9a11-a0bf54752f7f"
      },
      "execution_count": 8,
      "outputs": [
        {
          "output_type": "stream",
          "name": "stdout",
          "text": [
            "vaibhav\n",
            "7\n"
          ]
        }
      ]
    },
    {
      "cell_type": "markdown",
      "source": [
        "String Slicing"
      ],
      "metadata": {
        "id": "KzNZuHfKzogq"
      }
    },
    {
      "cell_type": "code",
      "source": [
        "print('vaibhav')\n",
        "print('vaibhav'[1])"
      ],
      "metadata": {
        "colab": {
          "base_uri": "https://localhost:8080/"
        },
        "id": "EvaV0U4bzqcz",
        "outputId": "9445ea48-3e3d-4a86-c559-d48b82aa5715"
      },
      "execution_count": 9,
      "outputs": [
        {
          "output_type": "stream",
          "name": "stdout",
          "text": [
            "vaibhav\n",
            "a\n"
          ]
        }
      ]
    },
    {
      "cell_type": "code",
      "source": [
        "print('vaibhav')\n",
        "print('vaibhav'[-2])"
      ],
      "metadata": {
        "colab": {
          "base_uri": "https://localhost:8080/"
        },
        "id": "lyXJMiwhz9x_",
        "outputId": "9d2b3855-7311-4e06-c6ad-fbb81afa4a8e"
      },
      "execution_count": 10,
      "outputs": [
        {
          "output_type": "stream",
          "name": "stdout",
          "text": [
            "vaibhav\n",
            "a\n"
          ]
        }
      ]
    },
    {
      "cell_type": "code",
      "source": [
        "print('vaibhav')\n",
        "print('vaibhav'[0:6])"
      ],
      "metadata": {
        "colab": {
          "base_uri": "https://localhost:8080/"
        },
        "id": "hLU-SDkt0LjV",
        "outputId": "df2cddca-678d-40f3-cdce-40155a34bdf8"
      },
      "execution_count": 13,
      "outputs": [
        {
          "output_type": "stream",
          "name": "stdout",
          "text": [
            "vaibhav\n",
            "vaibha\n"
          ]
        }
      ]
    },
    {
      "cell_type": "code",
      "source": [
        "print('vaibhav')\n",
        "print('vaibhav'[:6])"
      ],
      "metadata": {
        "colab": {
          "base_uri": "https://localhost:8080/"
        },
        "id": "sEj-g-kJ0qrN",
        "outputId": "4ee0555a-72cf-4f98-c951-31a9483bd1af"
      },
      "execution_count": 14,
      "outputs": [
        {
          "output_type": "stream",
          "name": "stdout",
          "text": [
            "vaibhav\n",
            "vaibha\n"
          ]
        }
      ]
    },
    {
      "cell_type": "code",
      "source": [
        "print('vaibhav')\n",
        "print('vaibhav'[1:])"
      ],
      "metadata": {
        "colab": {
          "base_uri": "https://localhost:8080/"
        },
        "id": "D80GBm6L1A6c",
        "outputId": "ce5f2bb2-8d94-4af2-994e-11613ff48c44"
      },
      "execution_count": 15,
      "outputs": [
        {
          "output_type": "stream",
          "name": "stdout",
          "text": [
            "vaibhav\n",
            "aibhav\n"
          ]
        }
      ]
    },
    {
      "cell_type": "markdown",
      "source": [
        "String Case Conversion"
      ],
      "metadata": {
        "id": "CWT3KiLQ1GIt"
      }
    },
    {
      "cell_type": "code",
      "source": [
        "print('vaibhav'.lower())\n",
        "print('vaibhav'.upper())"
      ],
      "metadata": {
        "colab": {
          "base_uri": "https://localhost:8080/"
        },
        "id": "GqUtvUIZ1sAn",
        "outputId": "f31b27d5-306c-4848-b59d-dc1b227f2f63"
      },
      "execution_count": 16,
      "outputs": [
        {
          "output_type": "stream",
          "name": "stdout",
          "text": [
            "vaibhav\n",
            "VAIBHAV\n"
          ]
        }
      ]
    },
    {
      "cell_type": "markdown",
      "source": [
        "String Stripping"
      ],
      "metadata": {
        "id": "h1OaTBoY1ySk"
      }
    },
    {
      "cell_type": "code",
      "source": [
        "print('     vaibhav batra    ')\n",
        "print('     vaibhav batra    '.strip())"
      ],
      "metadata": {
        "colab": {
          "base_uri": "https://localhost:8080/"
        },
        "id": "p4sm0B2d8LoZ",
        "outputId": "99bf4430-324f-4363-c1e9-ea594d376aa7"
      },
      "execution_count": 18,
      "outputs": [
        {
          "output_type": "stream",
          "name": "stdout",
          "text": [
            "     vaibhav batra    \n",
            "vaibhav batra\n"
          ]
        }
      ]
    },
    {
      "cell_type": "markdown",
      "source": [
        "String Replacing"
      ],
      "metadata": {
        "id": "xYmYHAYz8VRn"
      }
    },
    {
      "cell_type": "code",
      "source": [
        "print('Vaibhav Batra')\n",
        "print('Vaibhav Batra'.replace('a','v'))"
      ],
      "metadata": {
        "colab": {
          "base_uri": "https://localhost:8080/"
        },
        "id": "NS-LVK0R8gs6",
        "outputId": "0560eb37-87b6-44ab-ebc4-ec03f666e770"
      },
      "execution_count": 19,
      "outputs": [
        {
          "output_type": "stream",
          "name": "stdout",
          "text": [
            "Vaibhav Batra\n",
            "Vvibhvv Bvtrv\n"
          ]
        }
      ]
    },
    {
      "cell_type": "markdown",
      "source": [
        "String Count"
      ],
      "metadata": {
        "id": "1HHCobyr8vhQ"
      }
    },
    {
      "cell_type": "code",
      "source": [
        "print('Vaibhav Batra')\n",
        "print('Vaibhav Batra'.count('a'))"
      ],
      "metadata": {
        "colab": {
          "base_uri": "https://localhost:8080/"
        },
        "id": "oG4NrYwe81Lm",
        "outputId": "1d654351-989e-423b-ff5a-b556538ee045"
      },
      "execution_count": 20,
      "outputs": [
        {
          "output_type": "stream",
          "name": "stdout",
          "text": [
            "Vaibhav Batra\n",
            "4\n"
          ]
        }
      ]
    },
    {
      "cell_type": "code",
      "source": [
        "print('Vaibhav Batra')\n",
        "print('Vaibhav Batra'.count('v'))"
      ],
      "metadata": {
        "colab": {
          "base_uri": "https://localhost:8080/"
        },
        "id": "o53WVitw9FJj",
        "outputId": "8d61cc7d-ccf3-4a5d-e4c1-b8f045a2ed19"
      },
      "execution_count": 21,
      "outputs": [
        {
          "output_type": "stream",
          "name": "stdout",
          "text": [
            "Vaibhav Batra\n",
            "1\n"
          ]
        }
      ]
    },
    {
      "cell_type": "code",
      "source": [
        "print('Vaibhav Batra')\n",
        "print('Vaibhav Batra'.lower().count('v'))"
      ],
      "metadata": {
        "colab": {
          "base_uri": "https://localhost:8080/"
        },
        "id": "Fz0pbRKS9WfE",
        "outputId": "6b2e205c-5891-447c-fde0-ae63042ab67c"
      },
      "execution_count": 22,
      "outputs": [
        {
          "output_type": "stream",
          "name": "stdout",
          "text": [
            "Vaibhav Batra\n",
            "2\n"
          ]
        }
      ]
    },
    {
      "cell_type": "markdown",
      "source": [
        "String Find"
      ],
      "metadata": {
        "id": "O0kIIXVI9Al5"
      }
    },
    {
      "cell_type": "code",
      "source": [
        "print('Vaibhav Batra')\n",
        "print('Vaibhav Batra'.find('hav'))"
      ],
      "metadata": {
        "colab": {
          "base_uri": "https://localhost:8080/"
        },
        "id": "OHBD7bcI9aId",
        "outputId": "f3e1defe-2f6b-44b6-fd6b-731e85a49ccb"
      },
      "execution_count": 23,
      "outputs": [
        {
          "output_type": "stream",
          "name": "stdout",
          "text": [
            "Vaibhav Batra\n",
            "4\n"
          ]
        }
      ]
    },
    {
      "cell_type": "markdown",
      "source": [
        "String Check"
      ],
      "metadata": {
        "id": "KmFPdHzH9wZp"
      }
    },
    {
      "cell_type": "code",
      "source": [
        "print('vaibhav'.isalpha())\n",
        "print('123'.isdigit())\n",
        "print('vaibhav'.islower())\n",
        "print('VAIBHAV'.isupper())"
      ],
      "metadata": {
        "colab": {
          "base_uri": "https://localhost:8080/"
        },
        "id": "gHHqDBwk97v_",
        "outputId": "6a22dd3b-8869-4268-939f-5a6501011926"
      },
      "execution_count": 26,
      "outputs": [
        {
          "output_type": "stream",
          "name": "stdout",
          "text": [
            "True\n",
            "True\n",
            "True\n",
            "True\n"
          ]
        }
      ]
    },
    {
      "cell_type": "markdown",
      "source": [
        "String Capitalization"
      ],
      "metadata": {
        "id": "lfHYyojH_5C4"
      }
    },
    {
      "cell_type": "code",
      "source": [
        "print('vaibhav batra'.capitalize())\n",
        "print('vaibhav batra'.title())"
      ],
      "metadata": {
        "colab": {
          "base_uri": "https://localhost:8080/"
        },
        "id": "e8YF0UtJAV16",
        "outputId": "93fc18a5-dea9-4ba0-ecfc-cc5ac0407c80"
      },
      "execution_count": 27,
      "outputs": [
        {
          "output_type": "stream",
          "name": "stdout",
          "text": [
            "Vaibhav batra\n",
            "Vaibhav Batra\n"
          ]
        }
      ]
    },
    {
      "cell_type": "markdown",
      "source": [
        "Check for start and end"
      ],
      "metadata": {
        "id": "5hrocF2JAgN1"
      }
    },
    {
      "cell_type": "code",
      "source": [
        "print('vaibhav batra'.startswith('Vaib'))\n",
        "print('vaibhav batra'.startswith('vaib'))\n",
        "print('vaibhav batra'.endswith('ra'))"
      ],
      "metadata": {
        "colab": {
          "base_uri": "https://localhost:8080/"
        },
        "id": "7pqYTGeOAuhk",
        "outputId": "cf2b4467-5166-4780-bf1b-d304cfbc2b19"
      },
      "execution_count": 32,
      "outputs": [
        {
          "output_type": "stream",
          "name": "stdout",
          "text": [
            "False\n",
            "True\n",
            "True\n"
          ]
        }
      ]
    },
    {
      "cell_type": "markdown",
      "source": [
        "Centra"
      ],
      "metadata": {
        "id": "1rNfYSq4A8X9"
      }
    },
    {
      "cell_type": "code",
      "source": [
        "print('vaibhav batra'.center(20,\"*\"))\n",
        "print('vaibhav batra'.ljust(20,\"*\"))\n",
        "print('vaibhav batra'.rjust(20,\"*\"))"
      ],
      "metadata": {
        "colab": {
          "base_uri": "https://localhost:8080/"
        },
        "id": "CsORoB3fBM_6",
        "outputId": "730da91a-a2b4-412d-fc12-49327df6ba9b"
      },
      "execution_count": 33,
      "outputs": [
        {
          "output_type": "stream",
          "name": "stdout",
          "text": [
            "***vaibhav batra****\n",
            "vaibhav batra*******\n",
            "*******vaibhav batra\n"
          ]
        }
      ]
    },
    {
      "cell_type": "code",
      "source": [],
      "metadata": {
        "id": "IoH7hbO9Bcvn"
      },
      "execution_count": null,
      "outputs": []
    }
  ]
}